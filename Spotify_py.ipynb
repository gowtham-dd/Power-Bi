{
  "nbformat": 4,
  "nbformat_minor": 0,
  "metadata": {
    "colab": {
      "provenance": [],
      "toc_visible": true
    },
    "kernelspec": {
      "name": "python3",
      "display_name": "Python 3"
    },
    "language_info": {
      "name": "python"
    }
  },
  "cells": [
    {
      "cell_type": "code",
      "execution_count": null,
      "metadata": {
        "colab": {
          "base_uri": "https://localhost:8080/"
        },
        "id": "IE8xfdkKYS24",
        "outputId": "2ce4dcef-619c-4efe-c183-770cf9b1b109"
      },
      "outputs": [
        {
          "output_type": "stream",
          "name": "stdout",
          "text": [
            "Collecting mysql-connector-python\n",
            "  Downloading mysql_connector_python-9.3.0-cp311-cp311-manylinux_2_28_x86_64.whl.metadata (7.2 kB)\n",
            "Downloading mysql_connector_python-9.3.0-cp311-cp311-manylinux_2_28_x86_64.whl (33.9 MB)\n",
            "\u001b[2K   \u001b[90m━━━━━━━━━━━━━━━━━━━━━━━━━━━━━━━━━━━━━━━━\u001b[0m \u001b[32m33.9/33.9 MB\u001b[0m \u001b[31m53.6 MB/s\u001b[0m eta \u001b[36m0:00:00\u001b[0m\n",
            "\u001b[?25hInstalling collected packages: mysql-connector-python\n",
            "Successfully installed mysql-connector-python-9.3.0\n"
          ]
        }
      ],
      "source": [
        "# !pip install spotipy\n",
        "# !pip install matplotlib\n",
        "!pip install mysql-connector-python"
      ]
    },
    {
      "cell_type": "markdown",
      "source": [
        "CONNECTION"
      ],
      "metadata": {
        "id": "BvCw-cGRmZoc"
      }
    },
    {
      "cell_type": "code",
      "source": [
        "import mysql.connector\n",
        "import pandas as pd\n",
        "import matplotlib.pyplot as plt\n",
        "\n",
        "connection = mysql.connector.connect(\n",
        "  host = \"gateway01.ap-southeast-1.prod.aws.tidbcloud.com\",\n",
        "  port = 4000,\n",
        "  user = \"4PFhDQQc2yhfCUH.root\",\n",
        "  password = \"tzNB9UAMnXNidi62\",\n",
        "  database = \"sampleTable\",\n",
        "\n",
        ")\n",
        "mycursor = connection.cursor(buffered=True)"
      ],
      "metadata": {
        "id": "HZC2B56KmJ72"
      },
      "execution_count": 84,
      "outputs": []
    },
    {
      "cell_type": "markdown",
      "source": [
        "## TABLE CREATION"
      ],
      "metadata": {
        "id": "SvaTFADHmeQu"
      }
    },
    {
      "cell_type": "code",
      "source": [
        "mycursor.execute(\"\"\"\n",
        "CREATE TABLE spotify_tracks_analysis (\n",
        "  track_name VARCHAR(255),\n",
        "  artist VARCHAR(255),\n",
        "  album VARCHAR(255),\n",
        "  popularity INT,\n",
        "  duration_minutes FLOAT\n",
        ")\"\"\")\n",
        "print(\"done\")"
      ],
      "metadata": {
        "colab": {
          "base_uri": "https://localhost:8080/"
        },
        "id": "sXnzUBFrmguD",
        "outputId": "ecc813bc-38af-4a1e-f694-4c1d3b0368c3"
      },
      "execution_count": 75,
      "outputs": [
        {
          "output_type": "stream",
          "name": "stdout",
          "text": [
            "done\n"
          ]
        }
      ]
    },
    {
      "cell_type": "markdown",
      "source": [
        "## RETRIVE DATA"
      ],
      "metadata": {
        "id": "v4Ii9PpWmhks"
      }
    },
    {
      "cell_type": "code",
      "source": [
        "mycursor.execute(\"\"\"\n",
        "select * from spotify_tracks_analysis\n",
        "\"\"\")\n",
        "out = mycursor.fetchall()\n",
        "\n",
        "from tabulate import tabulate\n",
        "print(tabulate(out, headers=[i[0] for i in mycursor.description], tablefmt='psql'))\n",
        "connection.commit()\n"
      ],
      "metadata": {
        "colab": {
          "base_uri": "https://localhost:8080/"
        },
        "id": "v1fntckEmJoe",
        "outputId": "ee54dd17-3586-4563-f8c8-17b0d67d8cca"
      },
      "execution_count": 76,
      "outputs": [
        {
          "output_type": "stream",
          "name": "stdout",
          "text": [
            "+-----------------------------------------------+---------------------+--------------------------------------------------------------------------------------+--------------+--------------------+\n",
            "| track_name                                    | artist              | album                                                                                |   popularity |   duration_minutes |\n",
            "|-----------------------------------------------+---------------------+--------------------------------------------------------------------------------------+--------------+--------------------|\n",
            "| Blinding Lights                               | The Weeknd          | After Hours                                                                          |           90 |               3.33 |\n",
            "| Shape of You                                  | Ed Sheeran          | ÷ (Deluxe)                                                                           |           90 |               3.9  |\n",
            "| Someone You Loved                             | Lewis Capaldi       | Divinely Uninspired To A Hellish Extent                                              |           88 |               3.04 |\n",
            "| Sunflower - Spider-Man: Into the Spider-Verse | Post Malone         | Spider-Man: Into the Spider-Verse (Soundtrack From & Inspired by the Motion Picture) |           84 |               2.63 |\n",
            "| Starboy                                       | The Weeknd          | Starboy                                                                              |           91 |               3.84 |\n",
            "| As It Was                                     | Harry Styles        | As It Was                                                                            |           19 |               2.79 |\n",
            "| One Dance                                     | Drake               | Views                                                                                |           88 |               2.9  |\n",
            "| STAY (with Justin Bieber)                     | The Kid LAROI       | F*CK LOVE 3: OVER YOU                                                                |           13 |               2.36 |\n",
            "| Dance Monkey                                  | Tones And I         | Dance Monkey (Stripped Back) / Dance Monkey                                          |           76 |               3.49 |\n",
            "| Heat Waves                                    | Glass Animals       | Dreamland (+ Bonus Levels)                                                           |           18 |               3.98 |\n",
            "| Perfect                                       | Ed Sheeran          | ÷ (Deluxe)                                                                           |           90 |               4.39 |\n",
            "| Closer                                        | The Chainsmokers    | Closer                                                                               |           89 |               4.08 |\n",
            "| lovely (with Khalid)                          | Billie Eilish       | lovely (with Khalid)                                                                 |           89 |               3.34 |\n",
            "| High Hopes                                    | Panic! At The Disco | Pray for the Wicked                                                                  |           82 |               3.18 |\n",
            "| Señorita                                      | Shawn Mendes        | Señorita                                                                             |           80 |               3.18 |\n",
            "| Watermelon Sugar                              | Harry Styles        | Fine Line                                                                            |           86 |               2.9  |\n",
            "| Don't Start Now                               | Dua Lipa            | Don't Start Now                                                                      |           76 |               3.05 |\n",
            "| Lucid Dreams                                  | Juice WRLD          | Goodbye & Good Riddance                                                              |           86 |               4    |\n",
            "| Mr. Brightside                                | The Killers         | Hot Fuss                                                                             |           65 |               3.7  |\n",
            "| Sunflower - Spider-Man: Into the Spider-Verse | Post Malone         | Spider-Man: Into the Spider-Verse (Soundtrack From & Inspired by the Motion Picture) |           84 |               2.63 |\n",
            "| Shape of You                                  | Ed Sheeran          | ÷ (Deluxe)                                                                           |           90 |               3.9  |\n",
            "| Blinding Lights                               | The Weeknd          | After Hours                                                                          |           90 |               3.33 |\n",
            "| Someone You Loved                             | Lewis Capaldi       | Divinely Uninspired To A Hellish Extent                                              |           88 |               3.04 |\n",
            "| Sunflower - Spider-Man: Into the Spider-Verse | Post Malone         | Spider-Man: Into the Spider-Verse (Soundtrack From & Inspired by the Motion Picture) |           84 |               2.63 |\n",
            "| Starboy                                       | The Weeknd          | Starboy                                                                              |           91 |               3.84 |\n",
            "| As It Was                                     | Harry Styles        | As It Was                                                                            |           19 |               2.79 |\n",
            "| One Dance                                     | Drake               | Views                                                                                |           88 |               2.9  |\n",
            "| STAY (with Justin Bieber)                     | The Kid LAROI       | F*CK LOVE 3: OVER YOU                                                                |           13 |               2.36 |\n",
            "| Dance Monkey                                  | Tones And I         | Dance Monkey (Stripped Back) / Dance Monkey                                          |           76 |               3.49 |\n",
            "| Heat Waves                                    | Glass Animals       | Dreamland (+ Bonus Levels)                                                           |           18 |               3.98 |\n",
            "| Perfect                                       | Ed Sheeran          | ÷ (Deluxe)                                                                           |           90 |               4.39 |\n",
            "| Closer                                        | The Chainsmokers    | Closer                                                                               |           89 |               4.08 |\n",
            "| lovely (with Khalid)                          | Billie Eilish       | lovely (with Khalid)                                                                 |           89 |               3.34 |\n",
            "| High Hopes                                    | Panic! At The Disco | Pray for the Wicked                                                                  |           82 |               3.18 |\n",
            "| Señorita                                      | Shawn Mendes        | Señorita                                                                             |           80 |               3.18 |\n",
            "| Watermelon Sugar                              | Harry Styles        | Fine Line                                                                            |           86 |               2.9  |\n",
            "| Don't Start Now                               | Dua Lipa            | Don't Start Now                                                                      |           76 |               3.05 |\n",
            "| Lucid Dreams                                  | Juice WRLD          | Goodbye & Good Riddance                                                              |           86 |               4    |\n",
            "| Mr. Brightside                                | The Killers         | Hot Fuss                                                                             |           65 |               3.7  |\n",
            "| Sunflower - Spider-Man: Into the Spider-Verse | Post Malone         | Spider-Man: Into the Spider-Verse (Soundtrack From & Inspired by the Motion Picture) |           84 |               2.63 |\n",
            "| Shape of You                                  | Ed Sheeran          | ÷ (Deluxe)                                                                           |           90 |               3.9  |\n",
            "| Blinding Lights                               | The Weeknd          | After Hours                                                                          |           90 |               3.33 |\n",
            "| Someone You Loved                             | Lewis Capaldi       | Divinely Uninspired To A Hellish Extent                                              |           88 |               3.04 |\n",
            "| Sunflower - Spider-Man: Into the Spider-Verse | Post Malone         | Spider-Man: Into the Spider-Verse (Soundtrack From & Inspired by the Motion Picture) |           84 |               2.63 |\n",
            "| Starboy                                       | The Weeknd          | Starboy                                                                              |           91 |               3.84 |\n",
            "| As It Was                                     | Harry Styles        | As It Was                                                                            |           19 |               2.79 |\n",
            "| One Dance                                     | Drake               | Views                                                                                |           88 |               2.9  |\n",
            "| STAY (with Justin Bieber)                     | The Kid LAROI       | F*CK LOVE 3: OVER YOU                                                                |           13 |               2.36 |\n",
            "| Dance Monkey                                  | Tones And I         | Dance Monkey (Stripped Back) / Dance Monkey                                          |           76 |               3.49 |\n",
            "| Heat Waves                                    | Glass Animals       | Dreamland (+ Bonus Levels)                                                           |           18 |               3.98 |\n",
            "| Perfect                                       | Ed Sheeran          | ÷ (Deluxe)                                                                           |           90 |               4.39 |\n",
            "| Closer                                        | The Chainsmokers    | Closer                                                                               |           89 |               4.08 |\n",
            "| Blinding Lights                               | The Weeknd          | After Hours                                                                          |           90 |               3.33 |\n",
            "| Shape of You                                  | Ed Sheeran          | ÷ (Deluxe)                                                                           |           90 |               3.9  |\n",
            "| Someone You Loved                             | Lewis Capaldi       | Divinely Uninspired To A Hellish Extent                                              |           88 |               3.04 |\n",
            "| Sunflower - Spider-Man: Into the Spider-Verse | Post Malone         | Spider-Man: Into the Spider-Verse (Soundtrack From & Inspired by the Motion Picture) |           84 |               2.63 |\n",
            "| Starboy                                       | The Weeknd          | Starboy                                                                              |           91 |               3.84 |\n",
            "| As It Was                                     | Harry Styles        | As It Was                                                                            |           19 |               2.79 |\n",
            "| One Dance                                     | Drake               | Views                                                                                |           88 |               2.9  |\n",
            "| STAY (with Justin Bieber)                     | The Kid LAROI       | F*CK LOVE 3: OVER YOU                                                                |           13 |               2.36 |\n",
            "| Dance Monkey                                  | Tones And I         | Dance Monkey (Stripped Back) / Dance Monkey                                          |           76 |               3.49 |\n",
            "| Heat Waves                                    | Glass Animals       | Dreamland (+ Bonus Levels)                                                           |           18 |               3.98 |\n",
            "| Perfect                                       | Ed Sheeran          | ÷ (Deluxe)                                                                           |           90 |               4.39 |\n",
            "| Closer                                        | The Chainsmokers    | Closer                                                                               |           89 |               4.08 |\n",
            "| lovely (with Khalid)                          | Billie Eilish       | lovely (with Khalid)                                                                 |           89 |               3.34 |\n",
            "| High Hopes                                    | Panic! At The Disco | Pray for the Wicked                                                                  |           82 |               3.18 |\n",
            "| Señorita                                      | Shawn Mendes        | Señorita                                                                             |           80 |               3.18 |\n",
            "| Watermelon Sugar                              | Harry Styles        | Fine Line                                                                            |           86 |               2.9  |\n",
            "| Don't Start Now                               | Dua Lipa            | Don't Start Now                                                                      |           76 |               3.05 |\n",
            "| Lucid Dreams                                  | Juice WRLD          | Goodbye & Good Riddance                                                              |           86 |               4    |\n",
            "| Mr. Brightside                                | The Killers         | Hot Fuss                                                                             |           65 |               3.7  |\n",
            "| Sunflower - Spider-Man: Into the Spider-Verse | Post Malone         | Spider-Man: Into the Spider-Verse (Soundtrack From & Inspired by the Motion Picture) |           84 |               2.63 |\n",
            "| Shape of You                                  | Ed Sheeran          | ÷ (Deluxe)                                                                           |           90 |               3.9  |\n",
            "| Blinding Lights                               | The Weeknd          | After Hours                                                                          |           90 |               3.33 |\n",
            "| Someone You Loved                             | Lewis Capaldi       | Divinely Uninspired To A Hellish Extent                                              |           88 |               3.04 |\n",
            "| Sunflower - Spider-Man: Into the Spider-Verse | Post Malone         | Spider-Man: Into the Spider-Verse (Soundtrack From & Inspired by the Motion Picture) |           84 |               2.63 |\n",
            "| Starboy                                       | The Weeknd          | Starboy                                                                              |           91 |               3.84 |\n",
            "| As It Was                                     | Harry Styles        | As It Was                                                                            |           19 |               2.79 |\n",
            "| One Dance                                     | Drake               | Views                                                                                |           88 |               2.9  |\n",
            "| STAY (with Justin Bieber)                     | The Kid LAROI       | F*CK LOVE 3: OVER YOU                                                                |           13 |               2.36 |\n",
            "| Dance Monkey                                  | Tones And I         | Dance Monkey (Stripped Back) / Dance Monkey                                          |           76 |               3.49 |\n",
            "| Heat Waves                                    | Glass Animals       | Dreamland (+ Bonus Levels)                                                           |           18 |               3.98 |\n",
            "| Perfect                                       | Ed Sheeran          | ÷ (Deluxe)                                                                           |           90 |               4.39 |\n",
            "| Closer                                        | The Chainsmokers    | Closer                                                                               |           89 |               4.08 |\n",
            "| lovely (with Khalid)                          | Billie Eilish       | lovely (with Khalid)                                                                 |           89 |               3.34 |\n",
            "| High Hopes                                    | Panic! At The Disco | Pray for the Wicked                                                                  |           82 |               3.18 |\n",
            "| Señorita                                      | Shawn Mendes        | Señorita                                                                             |           80 |               3.18 |\n",
            "| Watermelon Sugar                              | Harry Styles        | Fine Line                                                                            |           86 |               2.9  |\n",
            "| Don't Start Now                               | Dua Lipa            | Don't Start Now                                                                      |           76 |               3.05 |\n",
            "| Lucid Dreams                                  | Juice WRLD          | Goodbye & Good Riddance                                                              |           86 |               4    |\n",
            "| Mr. Brightside                                | The Killers         | Hot Fuss                                                                             |           65 |               3.7  |\n",
            "| Sunflower - Spider-Man: Into the Spider-Verse | Post Malone         | Spider-Man: Into the Spider-Verse (Soundtrack From & Inspired by the Motion Picture) |           84 |               2.63 |\n",
            "| Shape of You                                  | Ed Sheeran          | ÷ (Deluxe)                                                                           |           90 |               3.9  |\n",
            "| Blinding Lights                               | The Weeknd          | After Hours                                                                          |           90 |               3.33 |\n",
            "| Someone You Loved                             | Lewis Capaldi       | Divinely Uninspired To A Hellish Extent                                              |           88 |               3.04 |\n",
            "| Sunflower - Spider-Man: Into the Spider-Verse | Post Malone         | Spider-Man: Into the Spider-Verse (Soundtrack From & Inspired by the Motion Picture) |           84 |               2.63 |\n",
            "| Starboy                                       | The Weeknd          | Starboy                                                                              |           91 |               3.84 |\n",
            "| As It Was                                     | Harry Styles        | As It Was                                                                            |           19 |               2.79 |\n",
            "| One Dance                                     | Drake               | Views                                                                                |           88 |               2.9  |\n",
            "| STAY (with Justin Bieber)                     | The Kid LAROI       | F*CK LOVE 3: OVER YOU                                                                |           13 |               2.36 |\n",
            "| Dance Monkey                                  | Tones And I         | Dance Monkey (Stripped Back) / Dance Monkey                                          |           76 |               3.49 |\n",
            "| Heat Waves                                    | Glass Animals       | Dreamland (+ Bonus Levels)                                                           |           18 |               3.98 |\n",
            "| Perfect                                       | Ed Sheeran          | ÷ (Deluxe)                                                                           |           90 |               4.39 |\n",
            "| Closer                                        | The Chainsmokers    | Closer                                                                               |           89 |               4.08 |\n",
            "+-----------------------------------------------+---------------------+--------------------------------------------------------------------------------------+--------------+--------------------+\n"
          ]
        }
      ]
    },
    {
      "cell_type": "markdown",
      "source": [
        "## ANALYSIS"
      ],
      "metadata": {
        "id": "fXFxM__Pmu4b"
      }
    },
    {
      "cell_type": "code",
      "source": [
        "mycursor.execute(\"\"\"\n",
        "select * from spotify_tracks_analysis order by popularity desc LIMIT 1\n",
        "\"\"\")\n",
        "out = mycursor.fetchall()\n",
        "\n",
        "from tabulate import tabulate\n",
        "print(tabulate(out, headers=[i[0] for i in mycursor.description], tablefmt='psql'))\n",
        "connection.commit()\n"
      ],
      "metadata": {
        "colab": {
          "base_uri": "https://localhost:8080/"
        },
        "id": "SpUfVro7ms-0",
        "outputId": "fd62298e-5748-4f82-e184-78519db832f7"
      },
      "execution_count": 77,
      "outputs": [
        {
          "output_type": "stream",
          "name": "stdout",
          "text": [
            "+--------------+------------+---------+--------------+--------------------+\n",
            "| track_name   | artist     | album   |   popularity |   duration_minutes |\n",
            "|--------------+------------+---------+--------------+--------------------|\n",
            "| Starboy      | The Weeknd | Starboy |           91 |               3.84 |\n",
            "+--------------+------------+---------+--------------+--------------------+\n"
          ]
        }
      ]
    },
    {
      "cell_type": "code",
      "source": [
        "mycursor.execute(\"\"\"\n",
        "select avg(popularity) as AVG_POPULARITY from spotify_tracks_analysis\n",
        "\"\"\")\n",
        "out = mycursor.fetchall()\n",
        "\n",
        "from tabulate import tabulate\n",
        "print(tabulate(out, headers=[i[0] for i in mycursor.description], tablefmt='psql'))\n",
        "connection.commit()\n"
      ],
      "metadata": {
        "colab": {
          "base_uri": "https://localhost:8080/"
        },
        "id": "VGktVVb5m6Pf",
        "outputId": "fe15da8e-2378-4912-f9f7-3530ee4826d8"
      },
      "execution_count": 78,
      "outputs": [
        {
          "output_type": "stream",
          "name": "stdout",
          "text": [
            "+------------------+\n",
            "|   AVG_POPULARITY |\n",
            "|------------------|\n",
            "|          73.1538 |\n",
            "+------------------+\n"
          ]
        }
      ]
    },
    {
      "cell_type": "code",
      "source": [
        "mycursor.execute(\"\"\"\n",
        "select\n",
        "case\n",
        "when popularity>=80 then 'Top Popular Songs'\n",
        "when popularity>=60   then 'Popular'\n",
        "else 'Not Popular'\n",
        "end as Popularity_Category,\n",
        "count(*) as Count\n",
        "from spotify_tracks_analysis\n",
        "group by Popularity_Category\n",
        "\"\"\")\n",
        "out = mycursor.fetchall()\n",
        "\n",
        "from tabulate import tabulate\n",
        "print(tabulate(out, headers=[i[0] for i in mycursor.description], tablefmt='psql'))\n",
        "connection.commit()\n"
      ],
      "metadata": {
        "colab": {
          "base_uri": "https://localhost:8080/"
        },
        "id": "cBs9ykiLnE2o",
        "outputId": "a0167c36-928b-4663-f095-103d7c6d5810"
      },
      "execution_count": 11,
      "outputs": [
        {
          "output_type": "stream",
          "name": "stdout",
          "text": [
            "+-----------------------+---------+\n",
            "| Popularity_Category   |   Count |\n",
            "|-----------------------+---------|\n",
            "| Not Popular           |      18 |\n",
            "| Top Popular Songs     |      72 |\n",
            "| Popular               |      14 |\n",
            "+-----------------------+---------+\n"
          ]
        }
      ]
    },
    {
      "cell_type": "markdown",
      "source": [
        "## Top 10 Songs"
      ],
      "metadata": {
        "id": "T2ABirQVoTr3"
      }
    },
    {
      "cell_type": "code",
      "source": [
        "\n",
        "mycursor.execute(\"\"\"\n",
        "select  distinct * from spotify_tracks_analysis where popularity>=80 order by popularity desc limit 10\n",
        "\"\"\")\n",
        "out = mycursor.fetchall()\n",
        "\n",
        "from tabulate import tabulate\n",
        "print(tabulate(out, headers=[i[0] for i in mycursor.description], tablefmt='psql'))\n",
        "connection.commit()\n",
        "\n",
        "\n"
      ],
      "metadata": {
        "colab": {
          "base_uri": "https://localhost:8080/"
        },
        "id": "Pe9-cW2NnzKL",
        "outputId": "99e98fd2-2adb-4d82-8857-1849acd93ef3"
      },
      "execution_count": 18,
      "outputs": [
        {
          "output_type": "stream",
          "name": "stdout",
          "text": [
            "+----------------------+------------------+-----------------------------------------+--------------+--------------------+\n",
            "| track_name           | artist           | album                                   |   popularity |   duration_minutes |\n",
            "|----------------------+------------------+-----------------------------------------+--------------+--------------------|\n",
            "| Starboy              | The Weeknd       | Starboy                                 |           91 |               3.84 |\n",
            "| Blinding Lights      | The Weeknd       | After Hours                             |           90 |               3.33 |\n",
            "| Shape of You         | Ed Sheeran       | ÷ (Deluxe)                              |           90 |               3.9  |\n",
            "| Perfect              | Ed Sheeran       | ÷ (Deluxe)                              |           90 |               4.39 |\n",
            "| Closer               | The Chainsmokers | Closer                                  |           89 |               4.08 |\n",
            "| lovely (with Khalid) | Billie Eilish    | lovely (with Khalid)                    |           89 |               3.34 |\n",
            "| Someone You Loved    | Lewis Capaldi    | Divinely Uninspired To A Hellish Extent |           88 |               3.04 |\n",
            "| One Dance            | Drake            | Views                                   |           88 |               2.9  |\n",
            "| Lucid Dreams         | Juice WRLD       | Goodbye & Good Riddance                 |           86 |               4    |\n",
            "| Watermelon Sugar     | Harry Styles     | Fine Line                               |           86 |               2.9  |\n",
            "+----------------------+------------------+-----------------------------------------+--------------+--------------------+\n"
          ]
        }
      ]
    },
    {
      "cell_type": "markdown",
      "source": [
        "## Duplicates"
      ],
      "metadata": {
        "id": "bgmpZZicsCep"
      }
    },
    {
      "cell_type": "code",
      "source": [
        "mycursor.execute(\"\"\"\n",
        "SELECT * FROM spotify_tracks_analysis\n",
        "WHERE track_name IS  NULL\n",
        "  AND artist IS  NULL\n",
        "  AND album IS  NULL\n",
        "  AND popularity IS  NULL\n",
        "  AND duration_minutes IS  NULL;\n",
        "\"\"\")\n",
        "connection.commit()\n",
        "out = mycursor.fetchall()\n",
        "\n",
        "from tabulate import tabulate\n",
        "print(tabulate(out, headers=[i[0] for i in mycursor.description], tablefmt='psql'))\n",
        "connection.commit()\n",
        "\n",
        "## no null values and duplicates\n"
      ],
      "metadata": {
        "colab": {
          "base_uri": "https://localhost:8080/"
        },
        "id": "ElQevgkusEGv",
        "outputId": "3b5626fc-8ae0-4ab1-fe93-6c0227fcb19c"
      },
      "execution_count": 54,
      "outputs": [
        {
          "output_type": "stream",
          "name": "stdout",
          "text": [
            "+--------------+----------+---------+--------------+--------------------+\n",
            "| track_name   | artist   | album   | popularity   | duration_minutes   |\n",
            "|--------------+----------+---------+--------------+--------------------|\n",
            "+--------------+----------+---------+--------------+--------------------+\n"
          ]
        }
      ]
    },
    {
      "cell_type": "code",
      "source": [
        "mycursor.execute(\"\"\"\n",
        "SELECT distinct * FROM spotify_tracks_analysis\n",
        "order by duration_minutes desc limit 5\n",
        "\"\"\")\n",
        "connection.commit()\n",
        "out = mycursor.fetchall()\n",
        "\n",
        "from tabulate import tabulate\n",
        "print(tabulate(out, headers=[i[0] for i in mycursor.description], tablefmt='psql'))\n",
        "connection.commit()\n"
      ],
      "metadata": {
        "colab": {
          "base_uri": "https://localhost:8080/"
        },
        "id": "fMohIv_5yIQm",
        "outputId": "97eb07a1-4862-47f6-8da2-43df63d15942"
      },
      "execution_count": 56,
      "outputs": [
        {
          "output_type": "stream",
          "name": "stdout",
          "text": [
            "+--------------+------------------+----------------------------+--------------+--------------------+\n",
            "| track_name   | artist           | album                      |   popularity |   duration_minutes |\n",
            "|--------------+------------------+----------------------------+--------------+--------------------|\n",
            "| Perfect      | Ed Sheeran       | ÷ (Deluxe)                 |           90 |               4.39 |\n",
            "| Closer       | The Chainsmokers | Closer                     |           89 |               4.08 |\n",
            "| Lucid Dreams | Juice WRLD       | Goodbye & Good Riddance    |           86 |               4    |\n",
            "| Heat Waves   | Glass Animals    | Dreamland (+ Bonus Levels) |           18 |               3.98 |\n",
            "| Shape of You | Ed Sheeran       | ÷ (Deluxe)                 |           90 |               3.9  |\n",
            "+--------------+------------------+----------------------------+--------------+--------------------+\n"
          ]
        }
      ]
    },
    {
      "cell_type": "code",
      "source": [
        "mycursor.execute(\"\"\"\n",
        "SELECT avg(duration_minutes) as Avd_Duration from spotify_tracks_analysis\n",
        "\"\"\")\n",
        "connection.commit()\n",
        "out = mycursor.fetchall()\n",
        "\n",
        "from tabulate import tabulate\n",
        "print(tabulate(out, headers=[i[0] for i in mycursor.description], tablefmt='psql'))\n",
        "connection.commit()\n"
      ],
      "metadata": {
        "colab": {
          "base_uri": "https://localhost:8080/"
        },
        "id": "52Ypfl2uyksA",
        "outputId": "f2993822-4738-4151-a736-ee3acc65d718"
      },
      "execution_count": 58,
      "outputs": [
        {
          "output_type": "stream",
          "name": "stdout",
          "text": [
            "+----------------+\n",
            "|   Avd_Duration |\n",
            "|----------------|\n",
            "|        3.34904 |\n",
            "+----------------+\n"
          ]
        }
      ]
    },
    {
      "cell_type": "code",
      "source": [
        "mycursor.execute(\"\"\"\n",
        "SELECT artist ,  count(track_name) as Count_of_songs from spotify_tracks_analysis group by artist order by count(track_name) desc ;\n",
        "\"\"\")\n",
        "connection.commit()\n",
        "out = mycursor.fetchall()\n",
        "\n",
        "from tabulate import tabulate\n",
        "print(tabulate(out, headers=[i[0] for i in mycursor.description], tablefmt='psql'))\n",
        "connection.commit()\n"
      ],
      "metadata": {
        "colab": {
          "base_uri": "https://localhost:8080/"
        },
        "id": "vcKPq0-Hyx6u",
        "outputId": "6751f026-0fce-49b8-ee51-2f1796802ad9"
      },
      "execution_count": 79,
      "outputs": [
        {
          "output_type": "stream",
          "name": "stdout",
          "text": [
            "+---------------------+------------------+\n",
            "| artist              |   Count_of_songs |\n",
            "|---------------------+------------------|\n",
            "| The Weeknd          |               12 |\n",
            "| Ed Sheeran          |               12 |\n",
            "| Post Malone         |               10 |\n",
            "| Harry Styles        |               10 |\n",
            "| Drake               |                6 |\n",
            "| The Kid LAROI       |                6 |\n",
            "| Glass Animals       |                6 |\n",
            "| Tones And I         |                6 |\n",
            "| Lewis Capaldi       |                6 |\n",
            "| The Chainsmokers    |                6 |\n",
            "| The Killers         |                4 |\n",
            "| Shawn Mendes        |                4 |\n",
            "| Dua Lipa            |                4 |\n",
            "| Panic! At The Disco |                4 |\n",
            "| Juice WRLD          |                4 |\n",
            "| Billie Eilish       |                4 |\n",
            "+---------------------+------------------+\n"
          ]
        }
      ]
    },
    {
      "cell_type": "code",
      "source": [
        "#Deleting duplicates\n",
        "\n",
        "mycursor.execute(\"\"\"WITH spotify AS (\n",
        "    SELECT track_name, artist, album, popularity, duration_minutes,\n",
        "           ROW_NUMBER() OVER (PARTITION BY track_name ORDER BY popularity DESC) AS ROWNUM\n",
        "    FROM spotify_tracks_analysis\n",
        ")\n",
        "DELETE FROM spotify_tracks\n",
        "WHERE track_name IN (\n",
        "    SELECT track_name\n",
        "    FROM spotify\n",
        "    WHERE ROWNUM > 1\n",
        ");\n",
        "\n",
        "\"\"\")\n",
        "connection.commit()\n",
        "\n"
      ],
      "metadata": {
        "id": "xXioQQ9FzlyB"
      },
      "execution_count": 65,
      "outputs": []
    },
    {
      "cell_type": "code",
      "source": [
        "mycursor.execute(\"\"\"\n",
        "SELECT * from spotify_tracks_analysis  limit 1;\n",
        "\"\"\")\n",
        "connection.commit()\n",
        "out = mycursor.fetchall()\n",
        "\n",
        "from tabulate import tabulate\n",
        "print(tabulate(out, headers=[i[0] for i in mycursor.description], tablefmt='psql'))\n",
        "connection.commit()\n"
      ],
      "metadata": {
        "colab": {
          "base_uri": "https://localhost:8080/"
        },
        "id": "QFGSI_mn03D1",
        "outputId": "800f5f66-18b6-4c55-d90d-7aca86fa965f"
      },
      "execution_count": 80,
      "outputs": [
        {
          "output_type": "stream",
          "name": "stdout",
          "text": [
            "+-----------------+------------+-------------+--------------+--------------------+\n",
            "| track_name      | artist     | album       |   popularity |   duration_minutes |\n",
            "|-----------------+------------+-------------+--------------+--------------------|\n",
            "| Blinding Lights | The Weeknd | After Hours |           90 |               3.33 |\n",
            "+-----------------+------------+-------------+--------------+--------------------+\n"
          ]
        }
      ]
    },
    {
      "cell_type": "markdown",
      "source": [
        "## Data Base to Data Frame"
      ],
      "metadata": {
        "id": "7ozgASISpDfw"
      }
    },
    {
      "cell_type": "code",
      "source": [
        "query = \"SELECT * FROM spotify_tracks_analysis\"  # Replace with your actual table name\n",
        "\n",
        "# Load into DataFrame\n",
        "df = pd.read_sql(query, con=connection,columns=['Track Name','Artist','Albums','Popularity','Duration'])\n",
        "df.to_csv(\"spotify_tracks_analysis.csv\")"
      ],
      "metadata": {
        "colab": {
          "base_uri": "https://localhost:8080/"
        },
        "id": "edzXP9XQn9Ch",
        "outputId": "c74b6fae-c6c7-4de9-e1de-9dab768ce407"
      },
      "execution_count": 82,
      "outputs": [
        {
          "output_type": "stream",
          "name": "stderr",
          "text": [
            "<ipython-input-82-d6f41fc66b79>:4: UserWarning: pandas only supports SQLAlchemy connectable (engine/connection) or database string URI or sqlite3 DBAPI2 connection. Other DBAPI2 objects are not tested. Please consider using SQLAlchemy.\n",
            "  df = pd.read_sql(query, con=connection,columns=['Track Name','Artist','Albums','Popularity','Duration'])\n"
          ]
        }
      ]
    },
    {
      "cell_type": "code",
      "source": [
        "list(df.shape)\n",
        "df.describe()\n",
        "df"
      ],
      "metadata": {
        "colab": {
          "base_uri": "https://localhost:8080/",
          "height": 493
        },
        "id": "0frfLJ-wpBmd",
        "outputId": "93b9faea-8a54-4958-93f0-96b45e1954b2"
      },
      "execution_count": 28,
      "outputs": [
        {
          "output_type": "execute_result",
          "data": {
            "text/plain": [
              "                                        track_name            artist  \\\n",
              "0                                  Blinding Lights        The Weeknd   \n",
              "1                                     Shape of You        Ed Sheeran   \n",
              "2                                Someone You Loved     Lewis Capaldi   \n",
              "3    Sunflower - Spider-Man: Into the Spider-Verse       Post Malone   \n",
              "4                                          Starboy        The Weeknd   \n",
              "..                                             ...               ...   \n",
              "99                       STAY (with Justin Bieber)     The Kid LAROI   \n",
              "100                                   Dance Monkey       Tones And I   \n",
              "101                                     Heat Waves     Glass Animals   \n",
              "102                                        Perfect        Ed Sheeran   \n",
              "103                                         Closer  The Chainsmokers   \n",
              "\n",
              "                                                 album  popularity  \\\n",
              "0                                          After Hours          90   \n",
              "1                                           ÷ (Deluxe)          90   \n",
              "2              Divinely Uninspired To A Hellish Extent          88   \n",
              "3    Spider-Man: Into the Spider-Verse (Soundtrack ...          84   \n",
              "4                                              Starboy          91   \n",
              "..                                                 ...         ...   \n",
              "99                               F*CK LOVE 3: OVER YOU          13   \n",
              "100        Dance Monkey (Stripped Back) / Dance Monkey          76   \n",
              "101                         Dreamland (+ Bonus Levels)          18   \n",
              "102                                         ÷ (Deluxe)          90   \n",
              "103                                             Closer          89   \n",
              "\n",
              "     duration_minutes  \n",
              "0                3.33  \n",
              "1                3.90  \n",
              "2                3.04  \n",
              "3                2.63  \n",
              "4                3.84  \n",
              "..                ...  \n",
              "99               2.36  \n",
              "100              3.49  \n",
              "101              3.98  \n",
              "102              4.39  \n",
              "103              4.08  \n",
              "\n",
              "[104 rows x 5 columns]"
            ],
            "text/html": [
              "\n",
              "  <div id=\"df-8543c9f1-a954-4f51-9945-d9aa8f7affc5\" class=\"colab-df-container\">\n",
              "    <div>\n",
              "<style scoped>\n",
              "    .dataframe tbody tr th:only-of-type {\n",
              "        vertical-align: middle;\n",
              "    }\n",
              "\n",
              "    .dataframe tbody tr th {\n",
              "        vertical-align: top;\n",
              "    }\n",
              "\n",
              "    .dataframe thead th {\n",
              "        text-align: right;\n",
              "    }\n",
              "</style>\n",
              "<table border=\"1\" class=\"dataframe\">\n",
              "  <thead>\n",
              "    <tr style=\"text-align: right;\">\n",
              "      <th></th>\n",
              "      <th>track_name</th>\n",
              "      <th>artist</th>\n",
              "      <th>album</th>\n",
              "      <th>popularity</th>\n",
              "      <th>duration_minutes</th>\n",
              "    </tr>\n",
              "  </thead>\n",
              "  <tbody>\n",
              "    <tr>\n",
              "      <th>0</th>\n",
              "      <td>Blinding Lights</td>\n",
              "      <td>The Weeknd</td>\n",
              "      <td>After Hours</td>\n",
              "      <td>90</td>\n",
              "      <td>3.33</td>\n",
              "    </tr>\n",
              "    <tr>\n",
              "      <th>1</th>\n",
              "      <td>Shape of You</td>\n",
              "      <td>Ed Sheeran</td>\n",
              "      <td>÷ (Deluxe)</td>\n",
              "      <td>90</td>\n",
              "      <td>3.90</td>\n",
              "    </tr>\n",
              "    <tr>\n",
              "      <th>2</th>\n",
              "      <td>Someone You Loved</td>\n",
              "      <td>Lewis Capaldi</td>\n",
              "      <td>Divinely Uninspired To A Hellish Extent</td>\n",
              "      <td>88</td>\n",
              "      <td>3.04</td>\n",
              "    </tr>\n",
              "    <tr>\n",
              "      <th>3</th>\n",
              "      <td>Sunflower - Spider-Man: Into the Spider-Verse</td>\n",
              "      <td>Post Malone</td>\n",
              "      <td>Spider-Man: Into the Spider-Verse (Soundtrack ...</td>\n",
              "      <td>84</td>\n",
              "      <td>2.63</td>\n",
              "    </tr>\n",
              "    <tr>\n",
              "      <th>4</th>\n",
              "      <td>Starboy</td>\n",
              "      <td>The Weeknd</td>\n",
              "      <td>Starboy</td>\n",
              "      <td>91</td>\n",
              "      <td>3.84</td>\n",
              "    </tr>\n",
              "    <tr>\n",
              "      <th>...</th>\n",
              "      <td>...</td>\n",
              "      <td>...</td>\n",
              "      <td>...</td>\n",
              "      <td>...</td>\n",
              "      <td>...</td>\n",
              "    </tr>\n",
              "    <tr>\n",
              "      <th>99</th>\n",
              "      <td>STAY (with Justin Bieber)</td>\n",
              "      <td>The Kid LAROI</td>\n",
              "      <td>F*CK LOVE 3: OVER YOU</td>\n",
              "      <td>13</td>\n",
              "      <td>2.36</td>\n",
              "    </tr>\n",
              "    <tr>\n",
              "      <th>100</th>\n",
              "      <td>Dance Monkey</td>\n",
              "      <td>Tones And I</td>\n",
              "      <td>Dance Monkey (Stripped Back) / Dance Monkey</td>\n",
              "      <td>76</td>\n",
              "      <td>3.49</td>\n",
              "    </tr>\n",
              "    <tr>\n",
              "      <th>101</th>\n",
              "      <td>Heat Waves</td>\n",
              "      <td>Glass Animals</td>\n",
              "      <td>Dreamland (+ Bonus Levels)</td>\n",
              "      <td>18</td>\n",
              "      <td>3.98</td>\n",
              "    </tr>\n",
              "    <tr>\n",
              "      <th>102</th>\n",
              "      <td>Perfect</td>\n",
              "      <td>Ed Sheeran</td>\n",
              "      <td>÷ (Deluxe)</td>\n",
              "      <td>90</td>\n",
              "      <td>4.39</td>\n",
              "    </tr>\n",
              "    <tr>\n",
              "      <th>103</th>\n",
              "      <td>Closer</td>\n",
              "      <td>The Chainsmokers</td>\n",
              "      <td>Closer</td>\n",
              "      <td>89</td>\n",
              "      <td>4.08</td>\n",
              "    </tr>\n",
              "  </tbody>\n",
              "</table>\n",
              "<p>104 rows × 5 columns</p>\n",
              "</div>\n",
              "    <div class=\"colab-df-buttons\">\n",
              "\n",
              "  <div class=\"colab-df-container\">\n",
              "    <button class=\"colab-df-convert\" onclick=\"convertToInteractive('df-8543c9f1-a954-4f51-9945-d9aa8f7affc5')\"\n",
              "            title=\"Convert this dataframe to an interactive table.\"\n",
              "            style=\"display:none;\">\n",
              "\n",
              "  <svg xmlns=\"http://www.w3.org/2000/svg\" height=\"24px\" viewBox=\"0 -960 960 960\">\n",
              "    <path d=\"M120-120v-720h720v720H120Zm60-500h600v-160H180v160Zm220 220h160v-160H400v160Zm0 220h160v-160H400v160ZM180-400h160v-160H180v160Zm440 0h160v-160H620v160ZM180-180h160v-160H180v160Zm440 0h160v-160H620v160Z\"/>\n",
              "  </svg>\n",
              "    </button>\n",
              "\n",
              "  <style>\n",
              "    .colab-df-container {\n",
              "      display:flex;\n",
              "      gap: 12px;\n",
              "    }\n",
              "\n",
              "    .colab-df-convert {\n",
              "      background-color: #E8F0FE;\n",
              "      border: none;\n",
              "      border-radius: 50%;\n",
              "      cursor: pointer;\n",
              "      display: none;\n",
              "      fill: #1967D2;\n",
              "      height: 32px;\n",
              "      padding: 0 0 0 0;\n",
              "      width: 32px;\n",
              "    }\n",
              "\n",
              "    .colab-df-convert:hover {\n",
              "      background-color: #E2EBFA;\n",
              "      box-shadow: 0px 1px 2px rgba(60, 64, 67, 0.3), 0px 1px 3px 1px rgba(60, 64, 67, 0.15);\n",
              "      fill: #174EA6;\n",
              "    }\n",
              "\n",
              "    .colab-df-buttons div {\n",
              "      margin-bottom: 4px;\n",
              "    }\n",
              "\n",
              "    [theme=dark] .colab-df-convert {\n",
              "      background-color: #3B4455;\n",
              "      fill: #D2E3FC;\n",
              "    }\n",
              "\n",
              "    [theme=dark] .colab-df-convert:hover {\n",
              "      background-color: #434B5C;\n",
              "      box-shadow: 0px 1px 3px 1px rgba(0, 0, 0, 0.15);\n",
              "      filter: drop-shadow(0px 1px 2px rgba(0, 0, 0, 0.3));\n",
              "      fill: #FFFFFF;\n",
              "    }\n",
              "  </style>\n",
              "\n",
              "    <script>\n",
              "      const buttonEl =\n",
              "        document.querySelector('#df-8543c9f1-a954-4f51-9945-d9aa8f7affc5 button.colab-df-convert');\n",
              "      buttonEl.style.display =\n",
              "        google.colab.kernel.accessAllowed ? 'block' : 'none';\n",
              "\n",
              "      async function convertToInteractive(key) {\n",
              "        const element = document.querySelector('#df-8543c9f1-a954-4f51-9945-d9aa8f7affc5');\n",
              "        const dataTable =\n",
              "          await google.colab.kernel.invokeFunction('convertToInteractive',\n",
              "                                                    [key], {});\n",
              "        if (!dataTable) return;\n",
              "\n",
              "        const docLinkHtml = 'Like what you see? Visit the ' +\n",
              "          '<a target=\"_blank\" href=https://colab.research.google.com/notebooks/data_table.ipynb>data table notebook</a>'\n",
              "          + ' to learn more about interactive tables.';\n",
              "        element.innerHTML = '';\n",
              "        dataTable['output_type'] = 'display_data';\n",
              "        await google.colab.output.renderOutput(dataTable, element);\n",
              "        const docLink = document.createElement('div');\n",
              "        docLink.innerHTML = docLinkHtml;\n",
              "        element.appendChild(docLink);\n",
              "      }\n",
              "    </script>\n",
              "  </div>\n",
              "\n",
              "\n",
              "    <div id=\"df-d5e85030-1359-459c-aeb1-9a1e5ecd07f3\">\n",
              "      <button class=\"colab-df-quickchart\" onclick=\"quickchart('df-d5e85030-1359-459c-aeb1-9a1e5ecd07f3')\"\n",
              "                title=\"Suggest charts\"\n",
              "                style=\"display:none;\">\n",
              "\n",
              "<svg xmlns=\"http://www.w3.org/2000/svg\" height=\"24px\"viewBox=\"0 0 24 24\"\n",
              "     width=\"24px\">\n",
              "    <g>\n",
              "        <path d=\"M19 3H5c-1.1 0-2 .9-2 2v14c0 1.1.9 2 2 2h14c1.1 0 2-.9 2-2V5c0-1.1-.9-2-2-2zM9 17H7v-7h2v7zm4 0h-2V7h2v10zm4 0h-2v-4h2v4z\"/>\n",
              "    </g>\n",
              "</svg>\n",
              "      </button>\n",
              "\n",
              "<style>\n",
              "  .colab-df-quickchart {\n",
              "      --bg-color: #E8F0FE;\n",
              "      --fill-color: #1967D2;\n",
              "      --hover-bg-color: #E2EBFA;\n",
              "      --hover-fill-color: #174EA6;\n",
              "      --disabled-fill-color: #AAA;\n",
              "      --disabled-bg-color: #DDD;\n",
              "  }\n",
              "\n",
              "  [theme=dark] .colab-df-quickchart {\n",
              "      --bg-color: #3B4455;\n",
              "      --fill-color: #D2E3FC;\n",
              "      --hover-bg-color: #434B5C;\n",
              "      --hover-fill-color: #FFFFFF;\n",
              "      --disabled-bg-color: #3B4455;\n",
              "      --disabled-fill-color: #666;\n",
              "  }\n",
              "\n",
              "  .colab-df-quickchart {\n",
              "    background-color: var(--bg-color);\n",
              "    border: none;\n",
              "    border-radius: 50%;\n",
              "    cursor: pointer;\n",
              "    display: none;\n",
              "    fill: var(--fill-color);\n",
              "    height: 32px;\n",
              "    padding: 0;\n",
              "    width: 32px;\n",
              "  }\n",
              "\n",
              "  .colab-df-quickchart:hover {\n",
              "    background-color: var(--hover-bg-color);\n",
              "    box-shadow: 0 1px 2px rgba(60, 64, 67, 0.3), 0 1px 3px 1px rgba(60, 64, 67, 0.15);\n",
              "    fill: var(--button-hover-fill-color);\n",
              "  }\n",
              "\n",
              "  .colab-df-quickchart-complete:disabled,\n",
              "  .colab-df-quickchart-complete:disabled:hover {\n",
              "    background-color: var(--disabled-bg-color);\n",
              "    fill: var(--disabled-fill-color);\n",
              "    box-shadow: none;\n",
              "  }\n",
              "\n",
              "  .colab-df-spinner {\n",
              "    border: 2px solid var(--fill-color);\n",
              "    border-color: transparent;\n",
              "    border-bottom-color: var(--fill-color);\n",
              "    animation:\n",
              "      spin 1s steps(1) infinite;\n",
              "  }\n",
              "\n",
              "  @keyframes spin {\n",
              "    0% {\n",
              "      border-color: transparent;\n",
              "      border-bottom-color: var(--fill-color);\n",
              "      border-left-color: var(--fill-color);\n",
              "    }\n",
              "    20% {\n",
              "      border-color: transparent;\n",
              "      border-left-color: var(--fill-color);\n",
              "      border-top-color: var(--fill-color);\n",
              "    }\n",
              "    30% {\n",
              "      border-color: transparent;\n",
              "      border-left-color: var(--fill-color);\n",
              "      border-top-color: var(--fill-color);\n",
              "      border-right-color: var(--fill-color);\n",
              "    }\n",
              "    40% {\n",
              "      border-color: transparent;\n",
              "      border-right-color: var(--fill-color);\n",
              "      border-top-color: var(--fill-color);\n",
              "    }\n",
              "    60% {\n",
              "      border-color: transparent;\n",
              "      border-right-color: var(--fill-color);\n",
              "    }\n",
              "    80% {\n",
              "      border-color: transparent;\n",
              "      border-right-color: var(--fill-color);\n",
              "      border-bottom-color: var(--fill-color);\n",
              "    }\n",
              "    90% {\n",
              "      border-color: transparent;\n",
              "      border-bottom-color: var(--fill-color);\n",
              "    }\n",
              "  }\n",
              "</style>\n",
              "\n",
              "      <script>\n",
              "        async function quickchart(key) {\n",
              "          const quickchartButtonEl =\n",
              "            document.querySelector('#' + key + ' button');\n",
              "          quickchartButtonEl.disabled = true;  // To prevent multiple clicks.\n",
              "          quickchartButtonEl.classList.add('colab-df-spinner');\n",
              "          try {\n",
              "            const charts = await google.colab.kernel.invokeFunction(\n",
              "                'suggestCharts', [key], {});\n",
              "          } catch (error) {\n",
              "            console.error('Error during call to suggestCharts:', error);\n",
              "          }\n",
              "          quickchartButtonEl.classList.remove('colab-df-spinner');\n",
              "          quickchartButtonEl.classList.add('colab-df-quickchart-complete');\n",
              "        }\n",
              "        (() => {\n",
              "          let quickchartButtonEl =\n",
              "            document.querySelector('#df-d5e85030-1359-459c-aeb1-9a1e5ecd07f3 button');\n",
              "          quickchartButtonEl.style.display =\n",
              "            google.colab.kernel.accessAllowed ? 'block' : 'none';\n",
              "        })();\n",
              "      </script>\n",
              "    </div>\n",
              "\n",
              "  <div id=\"id_9bc5ffa7-0cb9-493e-aaf3-250751241c8b\">\n",
              "    <style>\n",
              "      .colab-df-generate {\n",
              "        background-color: #E8F0FE;\n",
              "        border: none;\n",
              "        border-radius: 50%;\n",
              "        cursor: pointer;\n",
              "        display: none;\n",
              "        fill: #1967D2;\n",
              "        height: 32px;\n",
              "        padding: 0 0 0 0;\n",
              "        width: 32px;\n",
              "      }\n",
              "\n",
              "      .colab-df-generate:hover {\n",
              "        background-color: #E2EBFA;\n",
              "        box-shadow: 0px 1px 2px rgba(60, 64, 67, 0.3), 0px 1px 3px 1px rgba(60, 64, 67, 0.15);\n",
              "        fill: #174EA6;\n",
              "      }\n",
              "\n",
              "      [theme=dark] .colab-df-generate {\n",
              "        background-color: #3B4455;\n",
              "        fill: #D2E3FC;\n",
              "      }\n",
              "\n",
              "      [theme=dark] .colab-df-generate:hover {\n",
              "        background-color: #434B5C;\n",
              "        box-shadow: 0px 1px 3px 1px rgba(0, 0, 0, 0.15);\n",
              "        filter: drop-shadow(0px 1px 2px rgba(0, 0, 0, 0.3));\n",
              "        fill: #FFFFFF;\n",
              "      }\n",
              "    </style>\n",
              "    <button class=\"colab-df-generate\" onclick=\"generateWithVariable('df')\"\n",
              "            title=\"Generate code using this dataframe.\"\n",
              "            style=\"display:none;\">\n",
              "\n",
              "  <svg xmlns=\"http://www.w3.org/2000/svg\" height=\"24px\"viewBox=\"0 0 24 24\"\n",
              "       width=\"24px\">\n",
              "    <path d=\"M7,19H8.4L18.45,9,17,7.55,7,17.6ZM5,21V16.75L18.45,3.32a2,2,0,0,1,2.83,0l1.4,1.43a1.91,1.91,0,0,1,.58,1.4,1.91,1.91,0,0,1-.58,1.4L9.25,21ZM18.45,9,17,7.55Zm-12,3A5.31,5.31,0,0,0,4.9,8.1,5.31,5.31,0,0,0,1,6.5,5.31,5.31,0,0,0,4.9,4.9,5.31,5.31,0,0,0,6.5,1,5.31,5.31,0,0,0,8.1,4.9,5.31,5.31,0,0,0,12,6.5,5.46,5.46,0,0,0,6.5,12Z\"/>\n",
              "  </svg>\n",
              "    </button>\n",
              "    <script>\n",
              "      (() => {\n",
              "      const buttonEl =\n",
              "        document.querySelector('#id_9bc5ffa7-0cb9-493e-aaf3-250751241c8b button.colab-df-generate');\n",
              "      buttonEl.style.display =\n",
              "        google.colab.kernel.accessAllowed ? 'block' : 'none';\n",
              "\n",
              "      buttonEl.onclick = () => {\n",
              "        google.colab.notebook.generateWithVariable('df');\n",
              "      }\n",
              "      })();\n",
              "    </script>\n",
              "  </div>\n",
              "\n",
              "    </div>\n",
              "  </div>\n"
            ],
            "application/vnd.google.colaboratory.intrinsic+json": {
              "type": "dataframe",
              "variable_name": "df",
              "summary": "{\n  \"name\": \"df\",\n  \"rows\": 104,\n  \"fields\": [\n    {\n      \"column\": \"track_name\",\n      \"properties\": {\n        \"dtype\": \"category\",\n        \"num_unique_values\": 19,\n        \"samples\": [\n          \"Blinding Lights\",\n          \"As It Was\",\n          \"Closer\"\n        ],\n        \"semantic_type\": \"\",\n        \"description\": \"\"\n      }\n    },\n    {\n      \"column\": \"artist\",\n      \"properties\": {\n        \"dtype\": \"category\",\n        \"num_unique_values\": 16,\n        \"samples\": [\n          \"The Weeknd\",\n          \"Ed Sheeran\",\n          \"Drake\"\n        ],\n        \"semantic_type\": \"\",\n        \"description\": \"\"\n      }\n    },\n    {\n      \"column\": \"album\",\n      \"properties\": {\n        \"dtype\": \"category\",\n        \"num_unique_values\": 18,\n        \"samples\": [\n          \"After Hours\",\n          \"\\u00f7 (Deluxe)\",\n          \"Dance Monkey (Stripped Back) / Dance Monkey\"\n        ],\n        \"semantic_type\": \"\",\n        \"description\": \"\"\n      }\n    },\n    {\n      \"column\": \"popularity\",\n      \"properties\": {\n        \"dtype\": \"number\",\n        \"std\": 26,\n        \"min\": 13,\n        \"max\": 91,\n        \"num_unique_values\": 13,\n        \"samples\": [\n          86,\n          82,\n          90\n        ],\n        \"semantic_type\": \"\",\n        \"description\": \"\"\n      }\n    },\n    {\n      \"column\": \"duration_minutes\",\n      \"properties\": {\n        \"dtype\": \"number\",\n        \"std\": 0.572537393073599,\n        \"min\": 2.36,\n        \"max\": 4.39,\n        \"num_unique_values\": 17,\n        \"samples\": [\n          3.33,\n          3.9,\n          2.79\n        ],\n        \"semantic_type\": \"\",\n        \"description\": \"\"\n      }\n    }\n  ]\n}"
            }
          },
          "metadata": {},
          "execution_count": 28
        }
      ]
    },
    {
      "cell_type": "markdown",
      "source": [
        "## top 10 tracks"
      ],
      "metadata": {
        "id": "mh1HtZ-gpu8o"
      }
    },
    {
      "cell_type": "code",
      "source": [
        "top_tracks = df.sort_values(by='popularity', ascending=False).head(10)\n",
        "top_tracks.plot(kind='barh', x='track_name', y='popularity', color='skyblue')\n"
      ],
      "metadata": {
        "colab": {
          "base_uri": "https://localhost:8080/",
          "height": 447
        },
        "id": "iiBOPBAqpxBm",
        "outputId": "54ab529c-2faf-4a93-980d-73956e93b505"
      },
      "execution_count": 29,
      "outputs": [
        {
          "output_type": "execute_result",
          "data": {
            "text/plain": [
              "<Axes: ylabel='track_name'>"
            ]
          },
          "metadata": {},
          "execution_count": 29
        },
        {
          "output_type": "display_data",
          "data": {
            "text/plain": [
              "<Figure size 640x480 with 1 Axes>"
            ],
            "image/png": "[encoded data removed]"
          },
          "metadata": {}
        }
      ]
    },
    {
      "cell_type": "markdown",
      "source": [
        "## Distribution of track"
      ],
      "metadata": {
        "id": "i5T_JSFRqowq"
      }
    },
    {
      "cell_type": "code",
      "source": [
        "df['duration_minutes'].plot(kind='hist', bins=10, color='orange')\n"
      ],
      "metadata": {
        "colab": {
          "base_uri": "https://localhost:8080/",
          "height": 447
        },
        "id": "dtwANCGkqrnQ",
        "outputId": "1aff232a-23a3-45dd-b5d5-774b1ad9febb"
      },
      "execution_count": 31,
      "outputs": [
        {
          "output_type": "execute_result",
          "data": {
            "text/plain": [
              "<Axes: ylabel='Frequency'>"
            ]
          },
          "metadata": {},
          "execution_count": 31
        },
        {
          "output_type": "display_data",
          "data": {
            "text/plain": [
              "<Figure size 640x480 with 1 Axes>"
            ],
            "image/png": "[encoded data removed]"
          },
          "metadata": {}
        }
      ]
    },
    {
      "cell_type": "markdown",
      "source": [
        "## Per Artist Popularity"
      ],
      "metadata": {
        "id": "WH2yR4Ceq0XJ"
      }
    },
    {
      "cell_type": "code",
      "source": [
        "artist_avg = df.groupby('artist')['popularity'].mean().sort_values(ascending=False).head(10)\n",
        "artist_avg.plot(kind='bar', color='green')\n"
      ],
      "metadata": {
        "colab": {
          "base_uri": "https://localhost:8080/",
          "height": 586
        },
        "id": "LZV5JIm2q2h4",
        "outputId": "aaac021c-f3af-4d1f-cf94-903b235aba49"
      },
      "execution_count": 33,
      "outputs": [
        {
          "output_type": "execute_result",
          "data": {
            "text/plain": [
              "<Axes: xlabel='artist'>"
            ]
          },
          "metadata": {},
          "execution_count": 33
        },
        {
          "output_type": "display_data",
          "data": {
            "text/plain": [
              "<Figure size 640x480 with 1 Axes>"
            ],
            "image/png": "[encoded data removed]"
          },
          "metadata": {}
        }
      ]
    },
    {
      "cell_type": "markdown",
      "source": [
        "## Top tracks per atrist"
      ],
      "metadata": {
        "id": "-BqaxG7IrAN-"
      }
    },
    {
      "cell_type": "code",
      "source": [
        "artist_count = df['artist'].value_counts().head(10)\n",
        "artist_count.plot(kind='bar', color='purple')\n"
      ],
      "metadata": {
        "colab": {
          "base_uri": "https://localhost:8080/",
          "height": 580
        },
        "id": "Xxnq2zNSq_tq",
        "outputId": "68333021-2863-42db-d85c-8871f1e28bfb"
      },
      "execution_count": 34,
      "outputs": [
        {
          "output_type": "execute_result",
          "data": {
            "text/plain": [
              "<Axes: xlabel='artist'>"
            ]
          },
          "metadata": {},
          "execution_count": 34
        },
        {
          "output_type": "display_data",
          "data": {
            "text/plain": [
              "<Figure size 640x480 with 1 Axes>"
            ],
            "image/png": "[encoded data removed]"
          },
          "metadata": {}
        }
      ]
    },
    {
      "cell_type": "markdown",
      "source": [
        "## Duration X Popularity"
      ],
      "metadata": {
        "id": "E2loczCfrHFw"
      }
    },
    {
      "cell_type": "code",
      "source": [
        "df.plot(kind='scatter', x='duration_minutes', y='popularity', alpha=0.6)\n"
      ],
      "metadata": {
        "colab": {
          "base_uri": "https://localhost:8080/",
          "height": 467
        },
        "id": "8qKCRErSrJQd",
        "outputId": "8e0bed94-42a8-4808-8d4d-0bced45959ed"
      },
      "execution_count": 37,
      "outputs": [
        {
          "output_type": "execute_result",
          "data": {
            "text/plain": [
              "<Axes: xlabel='duration_minutes', ylabel='popularity'>"
            ]
          },
          "metadata": {},
          "execution_count": 37
        },
        {
          "output_type": "display_data",
          "data": {
            "text/plain": [
              "<Figure size 640x480 with 1 Axes>"
            ],
            "image/png": "[encoded data removed]"
          },
          "metadata": {}
        }
      ]
    },
    {
      "cell_type": "markdown",
      "source": [
        "## Popularity Distribution"
      ],
      "metadata": {
        "id": "89jJH01brVjB"
      }
    },
    {
      "cell_type": "code",
      "source": [
        "df['popularity'].plot(kind='box', vert=False)\n"
      ],
      "metadata": {
        "colab": {
          "base_uri": "https://localhost:8080/",
          "height": 447
        },
        "id": "FaQszGEnrUID",
        "outputId": "4087dbe5-5be8-4a5d-d5f4-fceef002dbca"
      },
      "execution_count": 38,
      "outputs": [
        {
          "output_type": "execute_result",
          "data": {
            "text/plain": [
              "<Axes: >"
            ]
          },
          "metadata": {},
          "execution_count": 38
        },
        {
          "output_type": "display_data",
          "data": {
            "text/plain": [
              "<Figure size 640x480 with 1 Axes>"
            ],
            "image/png": "[encoded data removed]"
          },
          "metadata": {}
        }
      ]
    },
    {
      "cell_type": "markdown",
      "source": [
        "## Heat Map"
      ],
      "metadata": {
        "id": "2Sbq3zl8rakP"
      }
    },
    {
      "cell_type": "code",
      "source": [
        "import seaborn as sns\n",
        "pivot = df.pivot_table(index='artist', columns='album', values='popularity', aggfunc='mean')\n",
        "sns.heatmap(pivot, cmap='viridis')\n"
      ],
      "metadata": {
        "colab": {
          "base_uri": "https://localhost:8080/",
          "height": 1000
        },
        "id": "rbLJ5gSbrb4h",
        "outputId": "0b2ad774-bbb7-41c1-f695-b12262e2b196"
      },
      "execution_count": 39,
      "outputs": [
        {
          "output_type": "execute_result",
          "data": {
            "text/plain": [
              "<Axes: xlabel='album', ylabel='artist'>"
            ]
          },
          "metadata": {},
          "execution_count": 39
        },
        {
          "output_type": "display_data",
          "data": {
            "text/plain": [
              "<Figure size 640x480 with 2 Axes>"
            ],
            "image/png": "[encoded data removed]"
          },
          "metadata": {}
        }
      ]
    },
    {
      "cell_type": "markdown",
      "source": [
        "## Treand"
      ],
      "metadata": {
        "id": "fnU8tpvfrmtw"
      }
    },
    {
      "cell_type": "code",
      "source": [
        "artist_stats = df.groupby('artist')[['duration_minutes', 'popularity']].mean()\n",
        "artist_stats.plot(kind='scatter', x='duration_minutes', y='popularity')\n"
      ],
      "metadata": {
        "colab": {
          "base_uri": "https://localhost:8080/",
          "height": 467
        },
        "id": "etbG7gd8rn8m",
        "outputId": "c6ba0b1e-de23-4ea3-85cf-c213c527e7b5"
      },
      "execution_count": 40,
      "outputs": [
        {
          "output_type": "execute_result",
          "data": {
            "text/plain": [
              "<Axes: xlabel='duration_minutes', ylabel='popularity'>"
            ]
          },
          "metadata": {},
          "execution_count": 40
        },
        {
          "output_type": "display_data",
          "data": {
            "text/plain": [
              "<Figure size 640x480 with 1 Axes>"
            ],
            "image/png": "[encoded data removed]"
          },
          "metadata": {}
        }
      ]
    },
    {
      "cell_type": "markdown",
      "source": [
        "## Analysis After Getting Data from CSV"
      ],
      "metadata": {
        "id": "sM-ju6Hh3YOU"
      }
    },
    {
      "cell_type": "code",
      "source": [
        "\n",
        "# Load into DataFrame\n",
        "df = pd.read_csv('/content/spotify_tracks_analysis.csv',index_col=0)\n",
        "df"
      ],
      "metadata": {
        "colab": {
          "base_uri": "https://localhost:8080/",
          "height": 493
        },
        "id": "5fl2c4VH3Xz3",
        "outputId": "ff6ca5b5-4eb6-467e-96db-141ac12e6efc"
      },
      "execution_count": 88,
      "outputs": [
        {
          "output_type": "execute_result",
          "data": {
            "text/plain": [
              "                                        track_name            artist  \\\n",
              "0                                  Blinding Lights        The Weeknd   \n",
              "1                                     Shape of You        Ed Sheeran   \n",
              "2                                Someone You Loved     Lewis Capaldi   \n",
              "3    Sunflower - Spider-Man: Into the Spider-Verse       Post Malone   \n",
              "4                                          Starboy        The Weeknd   \n",
              "..                                             ...               ...   \n",
              "99                       STAY (with Justin Bieber)     The Kid LAROI   \n",
              "100                                   Dance Monkey       Tones And I   \n",
              "101                                     Heat Waves     Glass Animals   \n",
              "102                                        Perfect        Ed Sheeran   \n",
              "103                                         Closer  The Chainsmokers   \n",
              "\n",
              "                                                 album  popularity  \\\n",
              "0                                          After Hours          90   \n",
              "1                                           ÷ (Deluxe)          90   \n",
              "2              Divinely Uninspired To A Hellish Extent          88   \n",
              "3    Spider-Man: Into the Spider-Verse (Soundtrack ...          84   \n",
              "4                                              Starboy          91   \n",
              "..                                                 ...         ...   \n",
              "99                               F*CK LOVE 3: OVER YOU          13   \n",
              "100        Dance Monkey (Stripped Back) / Dance Monkey          76   \n",
              "101                         Dreamland (+ Bonus Levels)          18   \n",
              "102                                         ÷ (Deluxe)          90   \n",
              "103                                             Closer          89   \n",
              "\n",
              "     duration_minutes  \n",
              "0                3.33  \n",
              "1                3.90  \n",
              "2                3.04  \n",
              "3                2.63  \n",
              "4                3.84  \n",
              "..                ...  \n",
              "99               2.36  \n",
              "100              3.49  \n",
              "101              3.98  \n",
              "102              4.39  \n",
              "103              4.08  \n",
              "\n",
              "[104 rows x 5 columns]"
            ],
            "text/html": [
              "\n",
              "  <div id=\"df-f89c0f38-3081-43eb-a1b2-a07a4ffb7e2c\" class=\"colab-df-container\">\n",
              "    <div>\n",
              "<style scoped>\n",
              "    .dataframe tbody tr th:only-of-type {\n",
              "        vertical-align: middle;\n",
              "    }\n",
              "\n",
              "    .dataframe tbody tr th {\n",
              "        vertical-align: top;\n",
              "    }\n",
              "\n",
              "    .dataframe thead th {\n",
              "        text-align: right;\n",
              "    }\n",
              "</style>\n",
              "<table border=\"1\" class=\"dataframe\">\n",
              "  <thead>\n",
              "    <tr style=\"text-align: right;\">\n",
              "      <th></th>\n",
              "      <th>track_name</th>\n",
              "      <th>artist</th>\n",
              "      <th>album</th>\n",
              "      <th>popularity</th>\n",
              "      <th>duration_minutes</th>\n",
              "    </tr>\n",
              "  </thead>\n",
              "  <tbody>\n",
              "    <tr>\n",
              "      <th>0</th>\n",
              "      <td>Blinding Lights</td>\n",
              "      <td>The Weeknd</td>\n",
              "      <td>After Hours</td>\n",
              "      <td>90</td>\n",
              "      <td>3.33</td>\n",
              "    </tr>\n",
              "    <tr>\n",
              "      <th>1</th>\n",
              "      <td>Shape of You</td>\n",
              "      <td>Ed Sheeran</td>\n",
              "      <td>÷ (Deluxe)</td>\n",
              "      <td>90</td>\n",
              "      <td>3.90</td>\n",
              "    </tr>\n",
              "    <tr>\n",
              "      <th>2</th>\n",
              "      <td>Someone You Loved</td>\n",
              "      <td>Lewis Capaldi</td>\n",
              "      <td>Divinely Uninspired To A Hellish Extent</td>\n",
              "      <td>88</td>\n",
              "      <td>3.04</td>\n",
              "    </tr>\n",
              "    <tr>\n",
              "      <th>3</th>\n",
              "      <td>Sunflower - Spider-Man: Into the Spider-Verse</td>\n",
              "      <td>Post Malone</td>\n",
              "      <td>Spider-Man: Into the Spider-Verse (Soundtrack ...</td>\n",
              "      <td>84</td>\n",
              "      <td>2.63</td>\n",
              "    </tr>\n",
              "    <tr>\n",
              "      <th>4</th>\n",
              "      <td>Starboy</td>\n",
              "      <td>The Weeknd</td>\n",
              "      <td>Starboy</td>\n",
              "      <td>91</td>\n",
              "      <td>3.84</td>\n",
              "    </tr>\n",
              "    <tr>\n",
              "      <th>...</th>\n",
              "      <td>...</td>\n",
              "      <td>...</td>\n",
              "      <td>...</td>\n",
              "      <td>...</td>\n",
              "      <td>...</td>\n",
              "    </tr>\n",
              "    <tr>\n",
              "      <th>99</th>\n",
              "      <td>STAY (with Justin Bieber)</td>\n",
              "      <td>The Kid LAROI</td>\n",
              "      <td>F*CK LOVE 3: OVER YOU</td>\n",
              "      <td>13</td>\n",
              "      <td>2.36</td>\n",
              "    </tr>\n",
              "    <tr>\n",
              "      <th>100</th>\n",
              "      <td>Dance Monkey</td>\n",
              "      <td>Tones And I</td>\n",
              "      <td>Dance Monkey (Stripped Back) / Dance Monkey</td>\n",
              "      <td>76</td>\n",
              "      <td>3.49</td>\n",
              "    </tr>\n",
              "    <tr>\n",
              "      <th>101</th>\n",
              "      <td>Heat Waves</td>\n",
              "      <td>Glass Animals</td>\n",
              "      <td>Dreamland (+ Bonus Levels)</td>\n",
              "      <td>18</td>\n",
              "      <td>3.98</td>\n",
              "    </tr>\n",
              "    <tr>\n",
              "      <th>102</th>\n",
              "      <td>Perfect</td>\n",
              "      <td>Ed Sheeran</td>\n",
              "      <td>÷ (Deluxe)</td>\n",
              "      <td>90</td>\n",
              "      <td>4.39</td>\n",
              "    </tr>\n",
              "    <tr>\n",
              "      <th>103</th>\n",
              "      <td>Closer</td>\n",
              "      <td>The Chainsmokers</td>\n",
              "      <td>Closer</td>\n",
              "      <td>89</td>\n",
              "      <td>4.08</td>\n",
              "    </tr>\n",
              "  </tbody>\n",
              "</table>\n",
              "<p>104 rows × 5 columns</p>\n",
              "</div>\n",
              "    <div class=\"colab-df-buttons\">\n",
              "\n",
              "  <div class=\"colab-df-container\">\n",
              "    <button class=\"colab-df-convert\" onclick=\"convertToInteractive('df-f89c0f38-3081-43eb-a1b2-a07a4ffb7e2c')\"\n",
              "            title=\"Convert this dataframe to an interactive table.\"\n",
              "            style=\"display:none;\">\n",
              "\n",
              "  <svg xmlns=\"http://www.w3.org/2000/svg\" height=\"24px\" viewBox=\"0 -960 960 960\">\n",
              "    <path d=\"M120-120v-720h720v720H120Zm60-500h600v-160H180v160Zm220 220h160v-160H400v160Zm0 220h160v-160H400v160ZM180-400h160v-160H180v160Zm440 0h160v-160H620v160ZM180-180h160v-160H180v160Zm440 0h160v-160H620v160Z\"/>\n",
              "  </svg>\n",
              "    </button>\n",
              "\n",
              "  <style>\n",
              "    .colab-df-container {\n",
              "      display:flex;\n",
              "      gap: 12px;\n",
              "    }\n",
              "\n",
              "    .colab-df-convert {\n",
              "      background-color: #E8F0FE;\n",
              "      border: none;\n",
              "      border-radius: 50%;\n",
              "      cursor: pointer;\n",
              "      display: none;\n",
              "      fill: #1967D2;\n",
              "      height: 32px;\n",
              "      padding: 0 0 0 0;\n",
              "      width: 32px;\n",
              "    }\n",
              "\n",
              "    .colab-df-convert:hover {\n",
              "      background-color: #E2EBFA;\n",
              "      box-shadow: 0px 1px 2px rgba(60, 64, 67, 0.3), 0px 1px 3px 1px rgba(60, 64, 67, 0.15);\n",
              "      fill: #174EA6;\n",
              "    }\n",
              "\n",
              "    .colab-df-buttons div {\n",
              "      margin-bottom: 4px;\n",
              "    }\n",
              "\n",
              "    [theme=dark] .colab-df-convert {\n",
              "      background-color: #3B4455;\n",
              "      fill: #D2E3FC;\n",
              "    }\n",
              "\n",
              "    [theme=dark] .colab-df-convert:hover {\n",
              "      background-color: #434B5C;\n",
              "      box-shadow: 0px 1px 3px 1px rgba(0, 0, 0, 0.15);\n",
              "      filter: drop-shadow(0px 1px 2px rgba(0, 0, 0, 0.3));\n",
              "      fill: #FFFFFF;\n",
              "    }\n",
              "  </style>\n",
              "\n",
              "    <script>\n",
              "      const buttonEl =\n",
              "        document.querySelector('#df-f89c0f38-3081-43eb-a1b2-a07a4ffb7e2c button.colab-df-convert');\n",
              "      buttonEl.style.display =\n",
              "        google.colab.kernel.accessAllowed ? 'block' : 'none';\n",
              "\n",
              "      async function convertToInteractive(key) {\n",
              "        const element = document.querySelector('#df-f89c0f38-3081-43eb-a1b2-a07a4ffb7e2c');\n",
              "        const dataTable =\n",
              "          await google.colab.kernel.invokeFunction('convertToInteractive',\n",
              "                                                    [key], {});\n",
              "        if (!dataTable) return;\n",
              "\n",
              "        const docLinkHtml = 'Like what you see? Visit the ' +\n",
              "          '<a target=\"_blank\" href=https://colab.research.google.com/notebooks/data_table.ipynb>data table notebook</a>'\n",
              "          + ' to learn more about interactive tables.';\n",
              "        element.innerHTML = '';\n",
              "        dataTable['output_type'] = 'display_data';\n",
              "        await google.colab.output.renderOutput(dataTable, element);\n",
              "        const docLink = document.createElement('div');\n",
              "        docLink.innerHTML = docLinkHtml;\n",
              "        element.appendChild(docLink);\n",
              "      }\n",
              "    </script>\n",
              "  </div>\n",
              "\n",
              "\n",
              "    <div id=\"df-cf98273a-57ae-4ffd-92c7-2308091bc5be\">\n",
              "      <button class=\"colab-df-quickchart\" onclick=\"quickchart('df-cf98273a-57ae-4ffd-92c7-2308091bc5be')\"\n",
              "                title=\"Suggest charts\"\n",
              "                style=\"display:none;\">\n",
              "\n",
              "<svg xmlns=\"http://www.w3.org/2000/svg\" height=\"24px\"viewBox=\"0 0 24 24\"\n",
              "     width=\"24px\">\n",
              "    <g>\n",
              "        <path d=\"M19 3H5c-1.1 0-2 .9-2 2v14c0 1.1.9 2 2 2h14c1.1 0 2-.9 2-2V5c0-1.1-.9-2-2-2zM9 17H7v-7h2v7zm4 0h-2V7h2v10zm4 0h-2v-4h2v4z\"/>\n",
              "    </g>\n",
              "</svg>\n",
              "      </button>\n",
              "\n",
              "<style>\n",
              "  .colab-df-quickchart {\n",
              "      --bg-color: #E8F0FE;\n",
              "      --fill-color: #1967D2;\n",
              "      --hover-bg-color: #E2EBFA;\n",
              "      --hover-fill-color: #174EA6;\n",
              "      --disabled-fill-color: #AAA;\n",
              "      --disabled-bg-color: #DDD;\n",
              "  }\n",
              "\n",
              "  [theme=dark] .colab-df-quickchart {\n",
              "      --bg-color: #3B4455;\n",
              "      --fill-color: #D2E3FC;\n",
              "      --hover-bg-color: #434B5C;\n",
              "      --hover-fill-color: #FFFFFF;\n",
              "      --disabled-bg-color: #3B4455;\n",
              "      --disabled-fill-color: #666;\n",
              "  }\n",
              "\n",
              "  .colab-df-quickchart {\n",
              "    background-color: var(--bg-color);\n",
              "    border: none;\n",
              "    border-radius: 50%;\n",
              "    cursor: pointer;\n",
              "    display: none;\n",
              "    fill: var(--fill-color);\n",
              "    height: 32px;\n",
              "    padding: 0;\n",
              "    width: 32px;\n",
              "  }\n",
              "\n",
              "  .colab-df-quickchart:hover {\n",
              "    background-color: var(--hover-bg-color);\n",
              "    box-shadow: 0 1px 2px rgba(60, 64, 67, 0.3), 0 1px 3px 1px rgba(60, 64, 67, 0.15);\n",
              "    fill: var(--button-hover-fill-color);\n",
              "  }\n",
              "\n",
              "  .colab-df-quickchart-complete:disabled,\n",
              "  .colab-df-quickchart-complete:disabled:hover {\n",
              "    background-color: var(--disabled-bg-color);\n",
              "    fill: var(--disabled-fill-color);\n",
              "    box-shadow: none;\n",
              "  }\n",
              "\n",
              "  .colab-df-spinner {\n",
              "    border: 2px solid var(--fill-color);\n",
              "    border-color: transparent;\n",
              "    border-bottom-color: var(--fill-color);\n",
              "    animation:\n",
              "      spin 1s steps(1) infinite;\n",
              "  }\n",
              "\n",
              "  @keyframes spin {\n",
              "    0% {\n",
              "      border-color: transparent;\n",
              "      border-bottom-color: var(--fill-color);\n",
              "      border-left-color: var(--fill-color);\n",
              "    }\n",
              "    20% {\n",
              "      border-color: transparent;\n",
              "      border-left-color: var(--fill-color);\n",
              "      border-top-color: var(--fill-color);\n",
              "    }\n",
              "    30% {\n",
              "      border-color: transparent;\n",
              "      border-left-color: var(--fill-color);\n",
              "      border-top-color: var(--fill-color);\n",
              "      border-right-color: var(--fill-color);\n",
              "    }\n",
              "    40% {\n",
              "      border-color: transparent;\n",
              "      border-right-color: var(--fill-color);\n",
              "      border-top-color: var(--fill-color);\n",
              "    }\n",
              "    60% {\n",
              "      border-color: transparent;\n",
              "      border-right-color: var(--fill-color);\n",
              "    }\n",
              "    80% {\n",
              "      border-color: transparent;\n",
              "      border-right-color: var(--fill-color);\n",
              "      border-bottom-color: var(--fill-color);\n",
              "    }\n",
              "    90% {\n",
              "      border-color: transparent;\n",
              "      border-bottom-color: var(--fill-color);\n",
              "    }\n",
              "  }\n",
              "</style>\n",
              "\n",
              "      <script>\n",
              "        async function quickchart(key) {\n",
              "          const quickchartButtonEl =\n",
              "            document.querySelector('#' + key + ' button');\n",
              "          quickchartButtonEl.disabled = true;  // To prevent multiple clicks.\n",
              "          quickchartButtonEl.classList.add('colab-df-spinner');\n",
              "          try {\n",
              "            const charts = await google.colab.kernel.invokeFunction(\n",
              "                'suggestCharts', [key], {});\n",
              "          } catch (error) {\n",
              "            console.error('Error during call to suggestCharts:', error);\n",
              "          }\n",
              "          quickchartButtonEl.classList.remove('colab-df-spinner');\n",
              "          quickchartButtonEl.classList.add('colab-df-quickchart-complete');\n",
              "        }\n",
              "        (() => {\n",
              "          let quickchartButtonEl =\n",
              "            document.querySelector('#df-cf98273a-57ae-4ffd-92c7-2308091bc5be button');\n",
              "          quickchartButtonEl.style.display =\n",
              "            google.colab.kernel.accessAllowed ? 'block' : 'none';\n",
              "        })();\n",
              "      </script>\n",
              "    </div>\n",
              "\n",
              "  <div id=\"id_340781ce-3925-41cf-bf92-5bbd58e2dbcd\">\n",
              "    <style>\n",
              "      .colab-df-generate {\n",
              "        background-color: #E8F0FE;\n",
              "        border: none;\n",
              "        border-radius: 50%;\n",
              "        cursor: pointer;\n",
              "        display: none;\n",
              "        fill: #1967D2;\n",
              "        height: 32px;\n",
              "        padding: 0 0 0 0;\n",
              "        width: 32px;\n",
              "      }\n",
              "\n",
              "      .colab-df-generate:hover {\n",
              "        background-color: #E2EBFA;\n",
              "        box-shadow: 0px 1px 2px rgba(60, 64, 67, 0.3), 0px 1px 3px 1px rgba(60, 64, 67, 0.15);\n",
              "        fill: #174EA6;\n",
              "      }\n",
              "\n",
              "      [theme=dark] .colab-df-generate {\n",
              "        background-color: #3B4455;\n",
              "        fill: #D2E3FC;\n",
              "      }\n",
              "\n",
              "      [theme=dark] .colab-df-generate:hover {\n",
              "        background-color: #434B5C;\n",
              "        box-shadow: 0px 1px 3px 1px rgba(0, 0, 0, 0.15);\n",
              "        filter: drop-shadow(0px 1px 2px rgba(0, 0, 0, 0.3));\n",
              "        fill: #FFFFFF;\n",
              "      }\n",
              "    </style>\n",
              "    <button class=\"colab-df-generate\" onclick=\"generateWithVariable('df')\"\n",
              "            title=\"Generate code using this dataframe.\"\n",
              "            style=\"display:none;\">\n",
              "\n",
              "  <svg xmlns=\"http://www.w3.org/2000/svg\" height=\"24px\"viewBox=\"0 0 24 24\"\n",
              "       width=\"24px\">\n",
              "    <path d=\"M7,19H8.4L18.45,9,17,7.55,7,17.6ZM5,21V16.75L18.45,3.32a2,2,0,0,1,2.83,0l1.4,1.43a1.91,1.91,0,0,1,.58,1.4,1.91,1.91,0,0,1-.58,1.4L9.25,21ZM18.45,9,17,7.55Zm-12,3A5.31,5.31,0,0,0,4.9,8.1,5.31,5.31,0,0,0,1,6.5,5.31,5.31,0,0,0,4.9,4.9,5.31,5.31,0,0,0,6.5,1,5.31,5.31,0,0,0,8.1,4.9,5.31,5.31,0,0,0,12,6.5,5.46,5.46,0,0,0,6.5,12Z\"/>\n",
              "  </svg>\n",
              "    </button>\n",
              "    <script>\n",
              "      (() => {\n",
              "      const buttonEl =\n",
              "        document.querySelector('#id_340781ce-3925-41cf-bf92-5bbd58e2dbcd button.colab-df-generate');\n",
              "      buttonEl.style.display =\n",
              "        google.colab.kernel.accessAllowed ? 'block' : 'none';\n",
              "\n",
              "      buttonEl.onclick = () => {\n",
              "        google.colab.notebook.generateWithVariable('df');\n",
              "      }\n",
              "      })();\n",
              "    </script>\n",
              "  </div>\n",
              "\n",
              "    </div>\n",
              "  </div>\n"
            ],
            "application/vnd.google.colaboratory.intrinsic+json": {
              "type": "dataframe",
              "variable_name": "df",
              "summary": "{\n  \"name\": \"df\",\n  \"rows\": 104,\n  \"fields\": [\n    {\n      \"column\": \"track_name\",\n      \"properties\": {\n        \"dtype\": \"category\",\n        \"num_unique_values\": 19,\n        \"samples\": [\n          \"Blinding Lights\",\n          \"As It Was\",\n          \"Closer\"\n        ],\n        \"semantic_type\": \"\",\n        \"description\": \"\"\n      }\n    },\n    {\n      \"column\": \"artist\",\n      \"properties\": {\n        \"dtype\": \"category\",\n        \"num_unique_values\": 16,\n        \"samples\": [\n          \"The Weeknd\",\n          \"Ed Sheeran\",\n          \"Drake\"\n        ],\n        \"semantic_type\": \"\",\n        \"description\": \"\"\n      }\n    },\n    {\n      \"column\": \"album\",\n      \"properties\": {\n        \"dtype\": \"category\",\n        \"num_unique_values\": 18,\n        \"samples\": [\n          \"After Hours\",\n          \"\\u00f7 (Deluxe)\",\n          \"Dance Monkey (Stripped Back) / Dance Monkey\"\n        ],\n        \"semantic_type\": \"\",\n        \"description\": \"\"\n      }\n    },\n    {\n      \"column\": \"popularity\",\n      \"properties\": {\n        \"dtype\": \"number\",\n        \"std\": 26,\n        \"min\": 13,\n        \"max\": 91,\n        \"num_unique_values\": 13,\n        \"samples\": [\n          86,\n          82,\n          90\n        ],\n        \"semantic_type\": \"\",\n        \"description\": \"\"\n      }\n    },\n    {\n      \"column\": \"duration_minutes\",\n      \"properties\": {\n        \"dtype\": \"number\",\n        \"std\": 0.572537393073599,\n        \"min\": 2.36,\n        \"max\": 4.39,\n        \"num_unique_values\": 17,\n        \"samples\": [\n          3.33,\n          3.9,\n          2.79\n        ],\n        \"semantic_type\": \"\",\n        \"description\": \"\"\n      }\n    }\n  ]\n}"
            }
          },
          "metadata": {},
          "execution_count": 88
        }
      ]
    }
  ]
}